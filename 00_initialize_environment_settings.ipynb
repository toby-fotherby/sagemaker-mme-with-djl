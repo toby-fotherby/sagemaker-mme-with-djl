{
 "cells": [
  {
   "cell_type": "markdown",
   "id": "3613f3d6-8f81-4bd9-b572-a3ccbe844139",
   "metadata": {},
   "source": [
    "# Initial the configuration for the example notebooks\n"
   ]
  },
  {
   "cell_type": "markdown",
   "id": "7faba81d-817f-400a-9f29-09700a8fffb8",
   "metadata": {
    "tags": []
   },
   "source": [
    "## Step 1: Copy data from 'data_to_upload' to Amazon S3"
   ]
  },
  {
   "cell_type": "markdown",
   "id": "6a69d17e-1f74-44e0-944b-3ec799f10fdc",
   "metadata": {
    "tags": []
   },
   "source": [
    "### Check that the path to the upload files folder exist"
   ]
  },
  {
   "cell_type": "code",
   "execution_count": null,
   "id": "e68725a2-cda8-4f8d-a9da-696f680dbe36",
   "metadata": {
    "tags": []
   },
   "outputs": [],
   "source": [
    "import os"
   ]
  },
  {
   "cell_type": "code",
   "execution_count": null,
   "id": "d7fec3c4-49a8-4674-96d0-4db4a1fe7261",
   "metadata": {
    "tags": []
   },
   "outputs": [],
   "source": [
    "# if model_1 directory does not exist then create it\n",
    "target_path = \"./data_for_upload\"\n",
    "\n",
    "if not os.path.exists(target_path):\n",
    "    print(\"Error: data for upload folder is not accessible\")"
   ]
  },
  {
   "cell_type": "markdown",
   "id": "78a46a93-31d1-480e-8a21-7b0bfc25c680",
   "metadata": {},
   "source": [
    "### Post file to Amazon S3"
   ]
  },
  {
   "cell_type": "code",
   "execution_count": null,
   "id": "7524b4e4-9662-495a-b0a1-0b3865971190",
   "metadata": {
    "tags": []
   },
   "outputs": [],
   "source": [
    "from sagemaker import session as sagemaker_session\n",
    "from boto3 import client as boto3_client\n",
    "\n",
    "sess = sagemaker_session.Session()  # sagemaker session for interacting with different AWS APIs\n",
    "bucket = sess.default_bucket()  # bucket to house artifacts\n",
    "\n",
    "s3_client = boto3_client(\"s3\")"
   ]
  },
  {
   "cell_type": "code",
   "execution_count": null,
   "id": "30da8d20-d0c5-4921-8477-5f468c9f876f",
   "metadata": {
    "tags": []
   },
   "outputs": [],
   "source": [
    "# Note: s3_data_prefix is part of the Amazon S3 key for where training and test data is stored\n",
    "\n",
    "s3_data_prefix = \"djl-mme-sklearn-data\""
   ]
  },
  {
   "cell_type": "code",
   "execution_count": null,
   "id": "1f67afa1-3749-4476-8f8b-5e76cf81954e",
   "metadata": {
    "tags": []
   },
   "outputs": [],
   "source": [
    "#Note: djl_mme_sklearn_data is the full Amazon S3 path to the training and test data\n",
    "\n",
    "djl_mme_sklearn_data = \"s3://{}/{}/\".format(bucket, s3_data_prefix)"
   ]
  },
  {
   "cell_type": "code",
   "execution_count": null,
   "id": "83c3bdde-94bd-4dd5-826d-6e17900a6c03",
   "metadata": {
    "tags": []
   },
   "outputs": [],
   "source": [
    "# Note: startups_test_data_csv is the name of the training and test data file on S3 and used locally\n",
    "\n",
    "startups_test_data_csv = \"50_Startups.csv\""
   ]
  },
  {
   "cell_type": "code",
   "execution_count": null,
   "id": "0de60a14-09bf-4bc9-9407-1966aca63c56",
   "metadata": {
    "tags": []
   },
   "outputs": [],
   "source": [
    "# upload the tarball to Amazon S3 where is will be used to back model requests\n",
    "\n",
    "with open(f\"{target_path}/{startups_test_data_csv}\", \"rb\") as f:\n",
    "    s3_client.upload_fileobj(f,\n",
    "                             bucket,\n",
    "                             f\"{s3_data_prefix}/{startups_test_data_csv}\")"
   ]
  },
  {
   "cell_type": "code",
   "execution_count": null,
   "id": "3eccee23-9ac4-419c-9ba6-97ad6dd62916",
   "metadata": {
    "tags": []
   },
   "outputs": [],
   "source": [
    "# Verify that the tar ball is saved to the target location\n",
    "\n",
    "print(djl_mme_sklearn_data)\n",
    "!aws s3 ls {djl_mme_sklearn_data}"
   ]
  },
  {
   "cell_type": "markdown",
   "id": "78838e8c-1a6a-44b4-b74e-8001602797f5",
   "metadata": {
    "tags": []
   },
   "source": [
    "Store the variable values for later use"
   ]
  },
  {
   "cell_type": "markdown",
   "id": "3694129e-bd05-44cb-a20c-c16a91481202",
   "metadata": {},
   "source": [
    "## Step 2: Set constant value variables that will be use across notebooks"
   ]
  },
  {
   "cell_type": "code",
   "execution_count": null,
   "id": "26f3cf27-7ba0-4d14-8bd1-c39fa982ca15",
   "metadata": {
    "tags": []
   },
   "outputs": [],
   "source": [
    "# Note: s3_model_prefix is part of the Amazon S3 key to where the model tarballs are stored\n",
    "\n",
    "s3_model_prefix = \"djl-mme-sklearn-examples\""
   ]
  },
  {
   "cell_type": "code",
   "execution_count": null,
   "id": "f6c5e2c6-caa5-4f60-9292-7f562c9f1435",
   "metadata": {
    "tags": []
   },
   "outputs": [],
   "source": [
    "# Note: mme_artifacts is the full s3 path to where the model tarballs are stored for use by the MME\n",
    "\n",
    "mme_artifacts = \"s3://{}/{}/\".format(bucket, s3_model_prefix)"
   ]
  },
  {
   "cell_type": "code",
   "execution_count": null,
   "id": "9dcd0084-f210-4645-8856-ef8a01f05816",
   "metadata": {
    "tags": []
   },
   "outputs": [],
   "source": [
    "# Note: This is used when calling the SageMaker Endpoint\n",
    "\n",
    "content_type = \"application/json\""
   ]
  },
  {
   "cell_type": "code",
   "execution_count": null,
   "id": "4a8b8c9d-d08e-4ef0-91fe-92dcbc5e065d",
   "metadata": {
    "tags": []
   },
   "outputs": [],
   "source": [
    "lr_model_reference_name = \"sklearn-linear-regression.tar.gz\"\n",
    "etc_model_reference_name = \"sklearn-extra-trees-classifier.tar.gz\"\n",
    "moc_model_reference_name = \"sklearn-multi-output-classifier.tar.gz\""
   ]
  },
  {
   "cell_type": "code",
   "execution_count": null,
   "id": "24d3030c-53ae-42c7-a38a-aa3fdcfd2ffe",
   "metadata": {},
   "outputs": [],
   "source": [
    "%store djl_mme_sklearn_data \n",
    "%store startups_test_data_csv\n",
    "%store s3_model_prefix\n",
    "%store mme_artifacts\n",
    "%store lr_model_reference_name\n",
    "%store etc_model_reference_name\n",
    "%store moc_model_reference_name\n",
    "%store bucket\n",
    "%store content_type"
   ]
  }
 ],
 "metadata": {
  "kernelspec": {
   "display_name": "conda_python3",
   "language": "python",
   "name": "conda_python3"
  },
  "language_info": {
   "codemirror_mode": {
    "name": "ipython",
    "version": 3
   },
   "file_extension": ".py",
   "mimetype": "text/x-python",
   "name": "python",
   "nbconvert_exporter": "python",
   "pygments_lexer": "ipython3",
   "version": "3.10.16"
  }
 },
 "nbformat": 4,
 "nbformat_minor": 5
}
