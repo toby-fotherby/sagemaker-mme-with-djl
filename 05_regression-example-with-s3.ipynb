{
 "cells": [
  {
   "cell_type": "markdown",
   "id": "49a217e9-14ab-4144-ac08-15f667871c5a",
   "metadata": {},
   "source": [
    "# Machine Learning: Training and evaluating a Regression model: An example\n",
    "---\n",
    "## Contents\n",
    "1. Introduction\n",
    "2. Setup\n",
    "   1. Import required Python modules\n",
    "   2. Load the dataset into a Pandas dataframe\n",
    "3. Explore the dataset\n",
    "4. Prepare the dataset\n",
    "   1. Separte the dataset into `X` and `y` sets\n",
    "   2. Apply required data engineering (one-hot encoding)\n",
    "   3. Split the data in training and test datasets\n",
    "5. Train the `ridge regression` model\n",
    "6. Evaluate the model\n",
    "7. Assignment\n",
    "---\n",
    "## Introduction\n",
    "This notebook provides a an example of training and evaluating a Regression model\n",
    "\n",
    "This dataset has data collected from New York, California and Florida about 50 business Startups \"17 in each state\". The variables used in the dataset are Profit, R&D spending, Administration Spending, and Marketing Spending. \n",
    "\n",
    "This is a publicly available dataset from Kaggle: https://www.kaggle.com/datasets/farhanmd29/50-startups\n",
    "\n",
    "Our ML training objective is to predict the amount of profit (this is the dependent, 'y' variable), based on the independent variables (X), R&D spending, Administration Spending, Marketing Spending and the location (state) of the business.\n"
   ]
  },
  {
   "cell_type": "markdown",
   "id": "2338741e-8477-4271-af79-f7010bd49672",
   "metadata": {
    "tags": []
   },
   "source": [
    "## Download content from Amazon S3"
   ]
  },
  {
   "cell_type": "raw",
   "id": "d9abd4b9-fb03-45d7-845b-6be78486344d",
   "metadata": {},
   "source": [
    "Create local folder for data if it does not already exist"
   ]
  },
  {
   "cell_type": "code",
   "execution_count": null,
   "id": "7a0b9b9e-8e8a-4885-b463-281d177705a4",
   "metadata": {
    "tags": []
   },
   "outputs": [],
   "source": [
    "# if the data directory does not exist then create it\n",
    "import os\n",
    "\n",
    "target_path = f\"./data\"\n",
    "\n",
    "if not os.path.exists(target_path):\n",
    "    os.makedirs(target_path)"
   ]
  },
  {
   "cell_type": "markdown",
   "id": "85fb61c8-b770-4525-9bde-b7665247a823",
   "metadata": {
    "tags": []
   },
   "source": [
    "Read in essential static variables used across notebooks from the store. These values are set in notebook 00.\n",
    "The variables include a reference to where the data is on Amazon S3"
   ]
  },
  {
   "cell_type": "code",
   "execution_count": null,
   "id": "3039c130-235c-456a-8cc3-4eeba4f4b04a",
   "metadata": {
    "tags": []
   },
   "outputs": [],
   "source": [
    "%store -r"
   ]
  },
  {
   "cell_type": "code",
   "execution_count": null,
   "id": "74ac7bfe-1a5e-4e65-8708-97fa5cacb0e7",
   "metadata": {
    "tags": []
   },
   "outputs": [],
   "source": [
    "s3_path_to_data = f\"{djl_mme_sklearn_data}{startups_test_data_csv}\"\n",
    "s3_path_to_data"
   ]
  },
  {
   "cell_type": "markdown",
   "id": "4fe98dde-8a88-446d-8a38-c81adb02e524",
   "metadata": {},
   "source": [
    "The following line copies the data to the local folder that we just created. After this the file can be access and used directly."
   ]
  },
  {
   "cell_type": "code",
   "execution_count": null,
   "id": "3fe81930-342f-4917-95ff-87a5f4b37153",
   "metadata": {},
   "outputs": [],
   "source": [
    "!aws s3 cp $s3_path_to_data $target_path"
   ]
  },
  {
   "cell_type": "markdown",
   "id": "4fb28b6400d15667",
   "metadata": {},
   "source": [
    "---\n",
    "## Setup\n",
    "Import the Python modules that we need for the model training and evaluation process.\n",
    "\n",
    "The following set is also fairly typical for scikit-learn statistical model training"
   ]
  },
  {
   "cell_type": "code",
   "execution_count": null,
   "id": "initial_id",
   "metadata": {
    "tags": []
   },
   "outputs": [],
   "source": [
    "import pandas as pd\n",
    "import matplotlib.pyplot as plt\n",
    "import seaborn as sns\n",
    "from sklearn.model_selection import train_test_split\n",
    "from sklearn.linear_model import Ridge\n",
    "from sklearn.preprocessing import OneHotEncoder\n",
    "from sklearn.metrics import mean_absolute_error,root_mean_squared_error, r2_score"
   ]
  },
  {
   "cell_type": "markdown",
   "id": "d58e0cb1dcbea2b3",
   "metadata": {},
   "source": [
    "Load the dataset that we are going to use for training, testing. \n",
    "\n",
    "This dataset noted above (from Kaggle), with information about 50 startups, has been downloaded to a local directory, `data` in this case.\n",
    "\n",
    "The next step is read the CSV file into a Pandas dataframe so that we can easily explore the content of the dataset and get the dataset ready for model training.\n",
    "\n",
    "The dataframe `head` function displays the first few rows of the dataframe"
   ]
  },
  {
   "cell_type": "code",
   "execution_count": null,
   "id": "389acd09b35f6444",
   "metadata": {
    "tags": []
   },
   "outputs": [],
   "source": [
    "startups_df = pd.read_csv('data/50_Startups.csv')\n",
    "startups_df.head()"
   ]
  },
  {
   "cell_type": "markdown",
   "id": "fd9efa4e-991b-4ca4-8eaf-9981a3de1d01",
   "metadata": {},
   "source": [
    "---\n",
    "## Explore the dataset \n"
   ]
  },
  {
   "cell_type": "markdown",
   "id": "6bd533fb-f418-4b85-a49e-43a982d0cab8",
   "metadata": {},
   "source": [
    "Print a concise summary of a DataFrame.\n",
    "The `info` method prints information about a DataFrame including the index dtype and columns, non-null values and memory usage."
   ]
  },
  {
   "cell_type": "code",
   "execution_count": null,
   "id": "4b3b533f54092496",
   "metadata": {
    "tags": []
   },
   "outputs": [],
   "source": [
    "startups_df.info()"
   ]
  },
  {
   "cell_type": "markdown",
   "id": "09cc8cf4-c022-41db-b5da-566b13dadbed",
   "metadata": {},
   "source": [
    "Take a look a the statistics of the numerical fields"
   ]
  },
  {
   "cell_type": "code",
   "execution_count": null,
   "id": "5196636bb420ba62",
   "metadata": {
    "tags": []
   },
   "outputs": [],
   "source": [
    "startups_df.describe()"
   ]
  },
  {
   "cell_type": "markdown",
   "id": "cd08fa1f-4134-42a7-b9d4-06c5eb765d2d",
   "metadata": {},
   "source": [
    "Take a look at the shape of the dataset (rows, columns)"
   ]
  },
  {
   "cell_type": "code",
   "execution_count": null,
   "id": "21cc2675822e058c",
   "metadata": {
    "tags": []
   },
   "outputs": [],
   "source": [
    "startups_df.shape"
   ]
  },
  {
   "cell_type": "markdown",
   "id": "17ebd199ae5c239a",
   "metadata": {},
   "source": [
    "---\n",
    "## Prepare the dataset for training\n",
    "\n",
    "1. Separate the data in the `independent variables`, aka `X`, aka the `observations`, and the `dependent variable`, aka `y`, aka the target `label`\n",
    "2. Apply `feature engineering`. In this example, this is limited to `one-hot encoding` to the State variable.\n",
    "3. Check the `cross-correlation` of the `independent variables`\n",
    "4. Split the data into `training` and `test` datasets\n"
   ]
  },
  {
   "cell_type": "code",
   "execution_count": null,
   "id": "2b3e27ebe074135d",
   "metadata": {
    "tags": []
   },
   "outputs": [],
   "source": [
    "X = startups_df.iloc[:, :-1]    # All but the last column are the observations (aka independent varibles)\n",
    "y = startups_df.iloc[:, -1]     # The last column is the dependent variable, that we want to predict\n",
    "X.head()"
   ]
  },
  {
   "cell_type": "markdown",
   "id": "962deefa598bb172",
   "metadata": {},
   "source": [
    "Categorical data can not be used directly for regression and needs to be transformed into numeric data. The solution is to use dummy variables. We create dummy variables for regression analysis that take on one of two values: zero or one."
   ]
  },
  {
   "cell_type": "code",
   "execution_count": null,
   "id": "f8884a7f-4faf-4657-b0a2-8ec1e2bd2126",
   "metadata": {
    "tags": []
   },
   "outputs": [],
   "source": [
    "# create an instance of one-hot-encoder\n",
    "enc = OneHotEncoder()\n",
    "\n",
    "enc_df = pd.DataFrame(enc.fit_transform(X[['State']]).toarray())\n",
    "enc_df.columns = ['California', 'Florida', 'New York']\n",
    "# merge with main df on key values\n",
    "X = X.join(enc_df)\n",
    "X.head()"
   ]
  },
  {
   "cell_type": "markdown",
   "id": "7c522f0b-de5c-4a13-9070-577d0f0fd6b8",
   "metadata": {},
   "source": [
    "At this point we drop the State variable from X. Variable of this datatype (string) cannot be in the dataset when it is given to the ML algorithm "
   ]
  },
  {
   "cell_type": "code",
   "execution_count": null,
   "id": "3c506e2d781f0128",
   "metadata": {
    "tags": []
   },
   "outputs": [],
   "source": [
    "X = X.drop('State', axis=1)\n",
    "X.head()"
   ]
  },
  {
   "cell_type": "markdown",
   "id": "0a3e9ca1-efe4-4638-bef0-7a8b45ded8b5",
   "metadata": {},
   "source": [
    "For many ML algorithms there is a requirement the independent variables are independent. That they are not dependent on each other. \n",
    "This can be explored by looking at the cross-correlation of the variables. \n",
    "It is expected that there will be moderate correlation of the one-hot-encoded variables, as these have identical values and are mutually exclusive. \n",
    "This is not an issue that we are concerned about for this example.\n",
    "The following shows the correlations metrics as a table and as a heatmap.\n",
    "The metrics show a high correlation between R&D Spend and Marketing Spend, however, we may reasonably assume that these two are not dependent on each other."
   ]
  },
  {
   "cell_type": "code",
   "execution_count": null,
   "id": "116cec19588f4bda",
   "metadata": {
    "tags": []
   },
   "outputs": [],
   "source": [
    "X.corr()"
   ]
  },
  {
   "cell_type": "code",
   "execution_count": null,
   "id": "f6278dc248db44bc",
   "metadata": {
    "tags": []
   },
   "outputs": [],
   "source": [
    "sns.heatmap(X.corr(), annot=True)"
   ]
  },
  {
   "cell_type": "code",
   "execution_count": null,
   "id": "1f13bf343cc08035",
   "metadata": {
    "tags": []
   },
   "outputs": [],
   "source": [
    "# SPLITTING DATA FOR train and test sets\n",
    "X_train, X_test, y_train, y_test = train_test_split(X, y, test_size=0.2, random_state=0)"
   ]
  },
  {
   "cell_type": "markdown",
   "id": "d06270c2-2064-416d-80fe-5930119e810f",
   "metadata": {},
   "source": [
    "---\n",
    "## Train the model\n",
    "\n",
    "1. Instantiate the model (in this case we'lll use Linear Regression)\n",
    "2. Train the model, using the `fit` method"
   ]
  },
  {
   "cell_type": "code",
   "execution_count": null,
   "id": "c91343bb1ec66063",
   "metadata": {
    "tags": []
   },
   "outputs": [],
   "source": [
    "# FITTING THE MODEL/TRAIN\n",
    "regressor = Ridge() # Instatiate the LinearRrgression model\n",
    "regressor.fit(X_train, y_train) # fit the model"
   ]
  },
  {
   "cell_type": "markdown",
   "id": "a0bc918a-2084-41bd-ac05-2fd8f21b6d19",
   "metadata": {},
   "source": [
    "---\n",
    "## Evaluate the model\n",
    "\n",
    "1. Run inference on the test data set and get the predictions\n",
    "2. Compare the predictions to the target values for the test dataset"
   ]
  },
  {
   "cell_type": "code",
   "execution_count": null,
   "id": "7e48ba41-e651-41bc-821f-dca5ac375c61",
   "metadata": {
    "tags": []
   },
   "outputs": [],
   "source": [
    "# Run the predictions\n",
    "y_pred = regressor.predict(X_test)"
   ]
  },
  {
   "cell_type": "code",
   "execution_count": null,
   "id": "d6295859-0834-4ed5-aac4-6eb16963ee2f",
   "metadata": {
    "tags": []
   },
   "outputs": [],
   "source": [
    "# Assess the model with the R^2 metric\n",
    "score = r2_score(y_test, y_pred)\n",
    "print(f'R2 Model Score: {score:0.4}')"
   ]
  },
  {
   "cell_type": "code",
   "execution_count": null,
   "id": "7c6958e1-575e-4d45-9d64-d5c7942b5d94",
   "metadata": {
    "tags": []
   },
   "outputs": [],
   "source": [
    "# Assess the model with the Root Mean Squared Error Model Error metric\n",
    "score = root_mean_squared_error(y_test, y_pred)\n",
    "print(f'Root Mean Squared Error Model Score: {score:0.6}')"
   ]
  },
  {
   "cell_type": "code",
   "execution_count": null,
   "id": "ea0f53fb-fbaf-45f2-910f-a31e5e079626",
   "metadata": {
    "tags": []
   },
   "outputs": [],
   "source": [
    "# Assess the model with the Mean Absolute Error metric\n",
    "score = mean_absolute_error(y_test, y_pred)\n",
    "print(f'Mean Absolute Error Model Score: : {score:0.6}')"
   ]
  },
  {
   "cell_type": "markdown",
   "id": "8e3b5ee8-f167-4e53-86ff-6ff53ed2d0af",
   "metadata": {},
   "source": [
    "Compare the actual values and predicted values"
   ]
  },
  {
   "cell_type": "code",
   "execution_count": null,
   "id": "5a6cfc2caddff6bb",
   "metadata": {
    "tags": []
   },
   "outputs": [],
   "source": [
    "# Calcluate the residuals\n",
    "residuals = y_test - y_pred\n",
    "print('Residuals: ', residuals)"
   ]
  },
  {
   "cell_type": "code",
   "execution_count": null,
   "id": "8d8d768ccb8d4fb8",
   "metadata": {
    "tags": []
   },
   "outputs": [],
   "source": [
    "# Visualize the residuals (the differences between the labels and predicted values)\n",
    "sns.scatterplot(x=y_test, y = y_pred,s=140)\n",
    "plt.xlabel('y_test data')\n",
    "plt.ylabel('Predictions')"
   ]
  },
  {
   "cell_type": "markdown",
   "id": "22215573-7048-4ae2-9aa7-0e6f609f6874",
   "metadata": {},
   "source": [
    "### Evaluation Conclusion\n",
    "Given the small size of the dataset both in terms of the number of observations and features, the model has a fairly high level of accuracy. \n",
    "\n",
    "With model results such as these, we might check in with the projects business lead to discuss our findings and next steps."
   ]
  }
 ],
 "metadata": {
  "kernelspec": {
   "display_name": "conda_tensorflow2_p310",
   "language": "python",
   "name": "conda_tensorflow2_p310"
  },
  "language_info": {
   "codemirror_mode": {
    "name": "ipython",
    "version": 3
   },
   "file_extension": ".py",
   "mimetype": "text/x-python",
   "name": "python",
   "nbconvert_exporter": "python",
   "pygments_lexer": "ipython3",
   "version": "3.10.16"
  }
 },
 "nbformat": 4,
 "nbformat_minor": 5
}
