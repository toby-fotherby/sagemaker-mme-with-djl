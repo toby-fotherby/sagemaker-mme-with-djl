{
 "cells": [
  {
   "cell_type": "markdown",
   "id": "3613f3d6-8f81-4bd9-b572-a3ccbe844139",
   "metadata": {},
   "source": [
    "# Package SKLearn Model for SageMaker MME with DJL\n",
    "Example 1 : Train, evaluate, and package a scikit-learn\n",
    "Linear Regression model for deployment on a SageMaker Multi-Model Endpoint with DJL."
   ]
  },
  {
   "cell_type": "markdown",
   "id": "bb77e428-6476-4e4e-922a-b91e3becfd92",
   "metadata": {
    "tags": []
   },
   "source": [
    "Read in essential static variables used across notebooks from the store. These values are set in notebook 00."
   ]
  },
  {
   "cell_type": "code",
   "execution_count": null,
   "id": "e3cf123b-b905-457f-8b9f-1a76e04d9c2f",
   "metadata": {
    "tags": []
   },
   "outputs": [],
   "source": [
    "%store -r"
   ]
  },
  {
   "cell_type": "markdown",
   "id": "a4efea0a-700e-499e-9e36-412960c82cb3",
   "metadata": {
    "tags": []
   },
   "source": [
    "## Step 1: Define and train the example model"
   ]
  },
  {
   "cell_type": "markdown",
   "id": "f764f303-b78d-49d4-aa0c-3a70e588a90b",
   "metadata": {
    "tags": []
   },
   "source": [
    "### Import required modules for model training and evaluation"
   ]
  },
  {
   "cell_type": "code",
   "execution_count": null,
   "id": "6a752bd6-5857-4350-8807-d1b52284e200",
   "metadata": {
    "tags": []
   },
   "outputs": [],
   "source": [
    "import numpy as np\n",
    "from sklearn.model_selection import train_test_split\n",
    "from sklearn.linear_model import LinearRegression"
   ]
  },
  {
   "cell_type": "markdown",
   "id": "63370773-6959-4c2d-880d-1d98cfcae615",
   "metadata": {},
   "source": [
    "### Generate a synthetic dataset for training and evaluation"
   ]
  },
  {
   "cell_type": "code",
   "execution_count": null,
   "id": "d5c186cf-ca00-48a9-bdca-01baff46116c",
   "metadata": {
    "tags": []
   },
   "outputs": [],
   "source": [
    "# Generate dummy data\n",
    "np.random.seed(0)\n",
    "X = np.random.rand(100, 1)\n",
    "y = 2 * X + 1 + 0.1 * np.random.randn(100, 1)  \n",
    "\n",
    "# Split the data into training and testing sets\n",
    "X_train, X_test, y_train, y_test = train_test_split(X, y, test_size=0.2, random_state=42)"
   ]
  },
  {
   "cell_type": "markdown",
   "id": "8e74e542-3ea9-4826-b2e1-5fcebc8e857a",
   "metadata": {},
   "source": [
    "### Take a look at the example data "
   ]
  },
  {
   "cell_type": "code",
   "execution_count": null,
   "id": "2c66df2a-9b1b-48c3-a632-4f69e941d3af",
   "metadata": {
    "tags": []
   },
   "outputs": [],
   "source": [
    "X_test[0:2]"
   ]
  },
  {
   "cell_type": "code",
   "execution_count": null,
   "id": "8db8c5f1-8431-4d84-bc71-f6055037838f",
   "metadata": {
    "tags": []
   },
   "outputs": [],
   "source": [
    "y_test[0:2]"
   ]
  },
  {
   "cell_type": "markdown",
   "id": "dd78cfc9-16d5-4684-b54a-191ebbd7218c",
   "metadata": {},
   "source": [
    "### Create the model\n",
    "In this case we're using Linear Regression mode "
   ]
  },
  {
   "cell_type": "code",
   "execution_count": null,
   "id": "1a85efe3-bd64-4954-b409-0607f18a22a3",
   "metadata": {
    "tags": []
   },
   "outputs": [],
   "source": [
    "model = LinearRegression()"
   ]
  },
  {
   "cell_type": "markdown",
   "id": "e9e83246-9f64-410b-8b40-df14dad51507",
   "metadata": {
    "tags": []
   },
   "source": [
    "### Train the model"
   ]
  },
  {
   "cell_type": "code",
   "execution_count": null,
   "id": "7ca94182-707d-491d-a4f0-89c21a6415a7",
   "metadata": {
    "tags": []
   },
   "outputs": [],
   "source": [
    "model.fit(X_train, y_train)"
   ]
  },
  {
   "cell_type": "markdown",
   "id": "69a7f5c0-fc93-40b6-8228-4688822a89c1",
   "metadata": {},
   "source": [
    "### Evaluate the model"
   ]
  },
  {
   "cell_type": "code",
   "execution_count": null,
   "id": "287bcb53-7f06-4ebe-8f68-85833341eeb6",
   "metadata": {
    "tags": []
   },
   "outputs": [],
   "source": [
    "y_pred = model.predict(X_test)\n",
    "\n",
    "# accuracy = accuracy_score(y_test, y_pred)\n",
    "# print(\"Accuracy:\", accuracy)"
   ]
  },
  {
   "cell_type": "markdown",
   "id": "1204859c-b188-45dc-b92b-20e1ad71335a",
   "metadata": {},
   "source": [
    "### Run prediction on the first two test rows\n",
    "And output the raw results - for quick comparison when we deploy the model to a SageMaker endpoint"
   ]
  },
  {
   "cell_type": "code",
   "execution_count": null,
   "id": "29e2adde-526c-4703-9213-16d88210ce23",
   "metadata": {
    "tags": []
   },
   "outputs": [],
   "source": [
    "y_pred = model.predict(X_test[0:2])\n",
    "y_pred"
   ]
  },
  {
   "cell_type": "markdown",
   "id": "80ce5e90-1eb6-4f47-9d4e-fde11fac1040",
   "metadata": {},
   "source": [
    "## Step 2: Export the trained model\n",
    "\n",
    "Export the model to a joblib format.\n",
    "To be sure, that it saved correctly, this restores the model and running inference on a couple of test cases"
   ]
  },
  {
   "cell_type": "code",
   "execution_count": null,
   "id": "8d6df3e0-1440-41ce-80d2-5cea20ffde31",
   "metadata": {
    "tags": []
   },
   "outputs": [],
   "source": [
    "import os\n",
    "import joblib"
   ]
  },
  {
   "cell_type": "markdown",
   "id": "fd7ca10a-9692-4251-bef8-000922d2da1e",
   "metadata": {
    "tags": []
   },
   "source": [
    "### Make sure we're starting from a known place in the filesystem"
   ]
  },
  {
   "cell_type": "code",
   "execution_count": null,
   "id": "69c4029c-6587-4787-9caa-96d03ca45069",
   "metadata": {
    "tags": []
   },
   "outputs": [],
   "source": [
    "%cd ~/SageMaker"
   ]
  },
  {
   "cell_type": "markdown",
   "id": "6a69d17e-1f74-44e0-944b-3ec799f10fdc",
   "metadata": {
    "tags": []
   },
   "source": [
    "### Export the model"
   ]
  },
  {
   "cell_type": "code",
   "execution_count": null,
   "id": "d7fec3c4-49a8-4674-96d0-4db4a1fe7261",
   "metadata": {
    "tags": []
   },
   "outputs": [],
   "source": [
    "# if linear-regression directory does not exist then create it\n",
    "target_dir = \"linear-regression\"\n",
    "target_path = f\"./models/{target_dir}\"\n",
    "\n",
    "if not os.path.exists(target_path):\n",
    "    os.makedirs(target_path)"
   ]
  },
  {
   "cell_type": "code",
   "execution_count": null,
   "id": "ca6e187c-5980-4b22-a25d-65e3c904c326",
   "metadata": {
    "tags": []
   },
   "outputs": [],
   "source": [
    "%cd $target_path"
   ]
  },
  {
   "cell_type": "code",
   "execution_count": null,
   "id": "90f8897e-6079-47fe-8894-a403d8480329",
   "metadata": {
    "tags": []
   },
   "outputs": [],
   "source": [
    "model_filename = \"model.joblib\"\n",
    "joblib.dump(model, model_filename)"
   ]
  },
  {
   "cell_type": "markdown",
   "id": "769e2c34-5d01-46f3-b039-b82f38ce7ed9",
   "metadata": {
    "tags": []
   },
   "source": [
    "### Test the exported model\n",
    "Instantiate a new instance of the model from the saved file and test it with subset of test data"
   ]
  },
  {
   "cell_type": "code",
   "execution_count": null,
   "id": "392dd7ae-0e3b-48df-884d-891be45c1f46",
   "metadata": {
    "tags": []
   },
   "outputs": [],
   "source": [
    "serialized_model = joblib.load(model_filename)"
   ]
  },
  {
   "cell_type": "code",
   "execution_count": null,
   "id": "70062e31-4fbf-49a7-96d5-73d768114ad0",
   "metadata": {
    "tags": []
   },
   "outputs": [],
   "source": [
    "# sample inference\n",
    "payload = X_test[0:2]\n",
    "sm_y_pred = serialized_model.predict(payload).tolist()\n",
    "sm_y_pred"
   ]
  },
  {
   "cell_type": "code",
   "execution_count": null,
   "id": "7ff37b05-f868-4e19-b874-ae9f4814cdcc",
   "metadata": {
    "tags": []
   },
   "outputs": [],
   "source": [
    "sm_y_pred == y_pred"
   ]
  },
  {
   "cell_type": "markdown",
   "id": "a21e1bb2-aac3-406e-b997-32aa5f964b60",
   "metadata": {
    "tags": []
   },
   "source": [
    "## Step 3: Deep Learning for Java (DJL) artifact creation\n",
    "\n",
    "We now have our model artifact, but we need the following for our DJL Serving Engine\n",
    "\n",
    "model.py: Inference script with custom model loading + pre/processing code\n",
    "\n",
    "requirements.txt: Additional dependencies, in this case we need to install sklearn and numpy\n",
    "\n",
    "serving.properties: Environment variables for DJL Serving, can adjust number of workers here"
   ]
  },
  {
   "cell_type": "code",
   "execution_count": null,
   "id": "00a6e394-1009-4f44-9243-f7a7d2b61cd8",
   "metadata": {
    "tags": []
   },
   "outputs": [],
   "source": [
    "%%writefile model.py\n",
    "#!/usr/bin/env python\n",
    "#\n",
    "#\n",
    "# Licensed under the Apache License, Version 2.0 (the \"License\"). You may not use this file\n",
    "# except in compliance with the License. A copy of the License is located at\n",
    "#\n",
    "# http://aws.amazon.com/apache2.0/\n",
    "#\n",
    "# or in the \"LICENSE.txt\" file accompanying this file. This file is distributed on an \"AS IS\"\n",
    "# BASIS, WITHOUT WARRANTIES OR CONDITIONS OF ANY KIND, express or implied. See the License for\n",
    "# the specific language governing permissions and limitations under the License.\n",
    "\n",
    "import logging\n",
    "import numpy as np\n",
    "import time\n",
    "import os\n",
    "import joblib\n",
    "from djl_python import Input\n",
    "from djl_python import Output\n",
    "\n",
    "\n",
    "class SKLearnRegressor(object):\n",
    "    def __init__(self):\n",
    "        self.initialized = False\n",
    "\n",
    "    def initialize(self, properties: dict):\n",
    "        \"\"\"\n",
    "        Initialize model.\n",
    "        \"\"\"\n",
    "        print(\"SKLearnRegressor: initialize: \" + str(os.listdir()))\n",
    "        if os.path.exists(\"model.joblib\"):\n",
    "            self.model = joblib.load(os.path.join(\"model.joblib\"))\n",
    "            print(\"SKLearnRegressor: model loaded during initialization\")\n",
    "        else:\n",
    "            raise ValueError(\"Expecting a model.joblib artifact for SKLearn Model Loading\")\n",
    "        self.initialized = True\n",
    "\n",
    "    def inference(self, inputs):\n",
    "        \"\"\"\n",
    "        Custom service entry point function.\n",
    "\n",
    "        :param inputs: the Input object holds a list of numpy array\n",
    "        :return: the Output object to be send back\n",
    "        \"\"\"\n",
    "\n",
    "        #sample input: [[0.5]]\n",
    "        \n",
    "        try:\n",
    "            data = inputs.get_as_json()\n",
    "            print(f\"SKLearnRegressor: inference input data type : {type(data)}\")\n",
    "            print(f\"SKLearnRegressor: inference input data: {data}\")\n",
    "\n",
    "            res = self.model.predict(data).tolist()[0]\n",
    "            outputs = Output()\n",
    "            outputs.add_as_json(res)\n",
    "            \n",
    "        except Exception as e:\n",
    "            # error handling\n",
    "            print(f\"SKLearnRegressor: inference failed: {str(e)}\")\n",
    "            logging.exception(f\"SKLearnRegressor: inference failed: {str(e)}\")\n",
    "            outputs = Output().error(str(e))\n",
    "        \n",
    "        print(f\"SKLearnRegressor: inference output data type: {type(outputs)}\")\n",
    "        print(f\"SKLearnRegressor: inference output data: {outputs}\")\n",
    "\n",
    "        return outputs\n",
    "\n",
    "\n",
    "_service = SKLearnRegressor()\n",
    "\n",
    "\n",
    "def handle(inputs: Input):\n",
    "    \"\"\"\n",
    "    Default handler function\n",
    "    \"\"\"\n",
    "    if not _service.initialized:\n",
    "        # stateful model\n",
    "        _service.initialize(inputs.get_properties())\n",
    "    \n",
    "    if inputs.is_empty():\n",
    "        return None\n",
    "\n",
    "    return _service.inference(inputs)"
   ]
  },
  {
   "cell_type": "code",
   "execution_count": null,
   "id": "57ac58b6-4926-4036-96d9-d96e609080a7",
   "metadata": {
    "tags": []
   },
   "outputs": [],
   "source": [
    "%%writefile requirements.txt\n",
    "joblib\n",
    "scikit-learn==1.5.0"
   ]
  },
  {
   "cell_type": "code",
   "execution_count": null,
   "id": "3ed010d4-2bc0-4c3d-808b-9dcd89ccabc6",
   "metadata": {
    "tags": []
   },
   "outputs": [],
   "source": [
    "%%writefile serving.properties\n",
    "engine=Python\n",
    "# idle time in seconds before the worker thread is scaled down, the default is \n",
    "max_idle_time=600"
   ]
  },
  {
   "cell_type": "markdown",
   "id": "5a3d5bbd-818a-43c0-812e-6539aa45a414",
   "metadata": {},
   "source": [
    "### Tarball Creation"
   ]
  },
  {
   "cell_type": "code",
   "execution_count": null,
   "id": "d4f45a33-e812-4bc6-a6f0-4c30e50b5463",
   "metadata": {
    "tags": []
   },
   "outputs": [],
   "source": [
    "# Build tar file with model data + inference code, replace this cell with your model.joblib\n",
    "import subprocess\n",
    "\n",
    "bashCommand = \"tar -cvpzf model.tar.gz model.joblib requirements.txt model.py serving.properties\"\n",
    "process = subprocess.Popen(bashCommand.split(), stdout=subprocess.PIPE)\n",
    "output, error = process.communicate()"
   ]
  },
  {
   "cell_type": "markdown",
   "id": "78a46a93-31d1-480e-8a21-7b0bfc25c680",
   "metadata": {},
   "source": [
    "### Upload the tarball to target location on Amazon S3"
   ]
  },
  {
   "cell_type": "code",
   "execution_count": null,
   "id": "7524b4e4-9662-495a-b0a1-0b3865971190",
   "metadata": {
    "tags": []
   },
   "outputs": [],
   "source": [
    "from boto3 import client as boto3_client\n",
    "\n",
    "s3_client = boto3_client(\"s3\")"
   ]
  },
  {
   "cell_type": "code",
   "execution_count": null,
   "id": "0de60a14-09bf-4bc9-9407-1966aca63c56",
   "metadata": {
    "tags": []
   },
   "outputs": [],
   "source": [
    "# upload the tarball to Amazon S3 where is will be used to back model requests\n",
    "with open(\"model.tar.gz\", \"rb\") as f:\n",
    "    s3_client.upload_fileobj(f,\n",
    "                             bucket,\n",
    "                             f\"{s3_model_prefix}/{lr_model_reference_name}\")"
   ]
  },
  {
   "cell_type": "code",
   "execution_count": null,
   "id": "3eccee23-9ac4-419c-9ba6-97ad6dd62916",
   "metadata": {
    "tags": []
   },
   "outputs": [],
   "source": [
    "# Verify that the tar ball is saved to the target location\n",
    "!aws s3 ls {mme_artifacts}"
   ]
  },
  {
   "cell_type": "code",
   "execution_count": null,
   "id": "24d3030c-53ae-42c7-a38a-aa3fdcfd2ffe",
   "metadata": {},
   "outputs": [],
   "source": []
  }
 ],
 "metadata": {
  "kernelspec": {
   "display_name": "conda_python3",
   "language": "python",
   "name": "conda_python3"
  },
  "language_info": {
   "codemirror_mode": {
    "name": "ipython",
    "version": 3
   },
   "file_extension": ".py",
   "mimetype": "text/x-python",
   "name": "python",
   "nbconvert_exporter": "python",
   "pygments_lexer": "ipython3",
   "version": "3.10.16"
  }
 },
 "nbformat": 4,
 "nbformat_minor": 5
}
